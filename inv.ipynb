{
 "cells": [
  {
   "cell_type": "code",
   "execution_count": null,
   "metadata": {},
   "outputs": [],
   "source": [
    "inv2 = {\"lista\" : [1, 2, 3, 4, 5], \"lista 2\" : [0, 5, 9, 30]}\n",
    "\n",
    "for i in inv2 : \n",
    "    print(inv2[i])\n",
    "    print(i)\n",
    "\n",
    "itens = {\"espada\" : {\"Dano\" : 20, \"Peso\" : 50}, \"Escudo\" : {\"Defesa\" : 5, \"Peso\" : 10}}\n",
    "inv2[\"espada\"] = itens[\"espada\"]\n",
    "print(inv2)\n"
   ]
  },
  {
   "cell_type": "code",
   "execution_count": null,
   "metadata": {},
   "outputs": [],
   "source": [
    "class inventario : \n",
    "    def __init__(self) -> None :\n",
    "        self.inv = {}\n",
    "\n",
    "    def add(self, Nome : str, Atributo : dict) -> None : \n",
    "        temp_dict = {Nome:Atributo} \n",
    "        self.inv[Nome] = temp_dict[Nome]"
   ]
  },
  {
   "cell_type": "code",
   "execution_count": null,
   "metadata": {},
   "outputs": [],
   "source": [
    "inv = inventario()\n",
    "inv.add(\"Espada\", {\"Dano\" : 30, \"Peso\" : 50, \"Valor\" : 150})\n"
   ]
  },
  {
   "cell_type": "code",
   "execution_count": null,
   "metadata": {},
   "outputs": [],
   "source": [
    "print(inv.inv[\"Espada\"][\"Dano\"])"
   ]
  }
 ],
 "metadata": {
  "kernelspec": {
   "display_name": "Python 3",
   "language": "python",
   "name": "python3"
  },
  "language_info": {
   "codemirror_mode": {
    "name": "ipython",
    "version": 3
   },
   "file_extension": ".py",
   "mimetype": "text/x-python",
   "name": "python",
   "nbconvert_exporter": "python",
   "pygments_lexer": "ipython3",
   "version": "3.12.4"
  }
 },
 "nbformat": 4,
 "nbformat_minor": 2
}
